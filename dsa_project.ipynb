{
  "nbformat": 4,
  "nbformat_minor": 0,
  "metadata": {
    "colab": {
      "name": "dsa project",
      "provenance": [],
      "collapsed_sections": [],
      "authorship_tag": "ABX9TyPage+24yjrWNtFTaopacKE",
      "include_colab_link": true
    },
    "kernelspec": {
      "name": "python3",
      "display_name": "Python 3"
    },
    "language_info": {
      "name": "python"
    }
  },
  "cells": [
    {
      "cell_type": "markdown",
      "metadata": {
        "id": "view-in-github",
        "colab_type": "text"
      },
      "source": [
        "<a href=\"https://colab.research.google.com/github/parvathi231/dsa/blob/main/dsa_project.ipynb\" target=\"_parent\"><img src=\"https://colab.research.google.com/assets/colab-badge.svg\" alt=\"Open In Colab\"/></a>"
      ]
    },
    {
      "cell_type": "code",
      "metadata": {
        "colab": {
          "base_uri": "https://localhost:8080/"
        },
        "id": "M-lYT7leaJm-",
        "outputId": "ee6f3802-635e-48a5-a7b9-6e7a213b8f1f"
      },
      "source": [
        "class Text:\n",
        "  def __init__(self):\n",
        "    print(\"init invoked\")\n",
        "    self.x=10\n",
        "  def show(self):\n",
        "    print(self.x)\n",
        "ob=Text()\n",
        "ob.show()"
      ],
      "execution_count": null,
      "outputs": [
        {
          "output_type": "stream",
          "text": [
            "init invoked\n",
            "10\n"
          ],
          "name": "stdout"
        }
      ]
    },
    {
      "cell_type": "code",
      "metadata": {
        "id": "4IJ3ZeiWb1Ja"
      },
      "source": [
        "import random\n",
        "import string"
      ],
      "execution_count": null,
      "outputs": []
    },
    {
      "cell_type": "code",
      "metadata": {
        "id": "99eutbK9cBzD",
        "colab": {
          "base_uri": "https://localhost:8080/"
        },
        "outputId": "06c527d2-cfaa-4c7e-95ef-5a13e085743c"
      },
      "source": [
        "def generate_id():\n",
        "  tokens = list(string.ascii_letters + string.digits)\n",
        "  uid=' '\n",
        "  for i in range(6):\n",
        "    uid += random.choice(tokens)\n",
        "  return uid\n",
        "#print(generate_id())"
      ],
      "execution_count": null,
      "outputs": [
        {
          "output_type": "stream",
          "text": [
            " t1kW08\n"
          ],
          "name": "stdout"
        }
      ]
    },
    {
      "cell_type": "code",
      "metadata": {
        "id": "9GhN7eL6dd97"
      },
      "source": [
        "class Amazon:\n",
        "  def __init__(self):\n",
        "    self.id = None\n",
        "    self.name = None\n",
        "    self.email = None\n",
        "    self.order_list = None\n",
        "    self.isprime = 1\n",
        "  def get_details(self):\n",
        "    self.id=generate_id()\n",
        "    self.name = input('Enter name')\n",
        "    self.email = input('Enter email')  \n",
        "  def buy_prime(self):\n",
        "    self.isprime=0\n",
        "  def buy_items(self):\n",
        "    self.order_cart=[i for i in input('Enter the item names').split(\" ,\")]  "
      ],
      "execution_count": null,
      "outputs": []
    },
    {
      "cell_type": "code",
      "metadata": {
        "id": "0iLEgsgvvXqK"
      },
      "source": [
        "user_list=[]"
      ],
      "execution_count": null,
      "outputs": []
    },
    {
      "cell_type": "code",
      "metadata": {
        "id": "p0-xkIEXADaR"
      },
      "source": [
        "\n",
        "def find_user_pos(new_user):\n",
        "  user_count = len(user_list)\n",
        "  pos = 0\n",
        "  for i in range(user_count):\n",
        "    if user_list[i].isprime <= new_user.isprime:\n",
        "      pos += 1\n",
        "  return pos    \n"
      ],
      "execution_count": null,
      "outputs": []
    },
    {
      "cell_type": "code",
      "metadata": {
        "colab": {
          "base_uri": "https://localhost:8080/"
        },
        "id": "wvlVy2tuwVY9",
        "outputId": "b63b754f-e11c-4b74-bd7e-bb24339378b4"
      },
      "source": [
        "ch='y'\n",
        "while ch=='y':\n",
        "  new_user = Amazon()\n",
        "  new_user.get_details()\n",
        "  op=input('want to order?y/n:')\n",
        "  if op=='y':\n",
        "    new_user.buy_items()\n",
        "  op = input('Do you want to buy prime?y/n')\n",
        "  if op=='y':\n",
        "    new_user.buy_prime()\n",
        "  pos = find_user_pos(new_user)  \n",
        "  user_list.insert(pos,new_user)\n",
        "  ch=input('want to add more user?y/n')\n"
      ],
      "execution_count": null,
      "outputs": [
        {
          "output_type": "stream",
          "text": [
            "Enter nameadi\n",
            "Enter emailadi@gmail.com\n",
            "want to order?y/n:y\n",
            "Enter the item namesbook\n",
            "Do you want to buy prime?y/ny\n",
            "want to add more user?y/ny\n",
            "Enter namelatha\n",
            "Enter emaillatha@gmail.com\n",
            "want to order?y/n:y\n",
            "Enter the item namesphone\n",
            "Do you want to buy prime?y/nn\n",
            "want to add more user?y/nn\n"
          ],
          "name": "stdout"
        }
      ]
    },
    {
      "cell_type": "code",
      "metadata": {
        "id": "pRmAqEao4JOo",
        "colab": {
          "base_uri": "https://localhost:8080/"
        },
        "outputId": "1968776f-4311-4fb3-eed4-789c54049098"
      },
      "source": [
        "print(user_list)"
      ],
      "execution_count": null,
      "outputs": [
        {
          "output_type": "stream",
          "text": [
            "[<__main__.Amazon object at 0x7fda41c4a750>, <__main__.Amazon object at 0x7fda3dc2d4d0>, <__main__.Amazon object at 0x7fda3dc77850>, <__main__.Amazon object at 0x7fda46574150>, <__main__.Amazon object at 0x7fda3dc42850>]\n"
          ],
          "name": "stdout"
        }
      ]
    },
    {
      "cell_type": "code",
      "metadata": {
        "id": "wZNyakJf4FHo",
        "colab": {
          "base_uri": "https://localhost:8080/"
        },
        "outputId": "aa38da63-6a91-4ef7-f78a-8112b4cff21a"
      },
      "source": [
        "for i in user_list:\n",
        "  print(i.name,i.isprime,i.order_cart)"
      ],
      "execution_count": null,
      "outputs": [
        {
          "output_type": "stream",
          "text": [
            "adi 0 ['soap,book']\n",
            "sita 0 ['laptop']\n",
            "adi 0 ['book']\n",
            "rahul 1 ['phone']\n",
            "latha 1 ['phone']\n"
          ],
          "name": "stdout"
        }
      ]
    },
    {
      "cell_type": "code",
      "metadata": {
        "colab": {
          "base_uri": "https://localhost:8080/"
        },
        "id": "CaLx5bkR7dfo",
        "outputId": "5448fdd1-33a8-4156-8782-b89540ab0171"
      },
      "source": [
        "li=[1,3,5,2,8]\n",
        "#li.sort()\n",
        "uli=sorted(li)\n",
        "print(li)\n",
        "print(uli)"
      ],
      "execution_count": null,
      "outputs": [
        {
          "output_type": "stream",
          "text": [
            "[1, 3, 5, 2, 8]\n",
            "[1, 2, 3, 5, 8]\n"
          ],
          "name": "stdout"
        }
      ]
    },
    {
      "cell_type": "code",
      "metadata": {
        "id": "MKvUFp6o8fjF"
      },
      "source": [
        "#user_list = sorted(user_list,key = lambda user:user.isprime)"
      ],
      "execution_count": null,
      "outputs": []
    },
    {
      "cell_type": "code",
      "metadata": {
        "colab": {
          "base_uri": "https://localhost:8080/"
        },
        "id": "UfmiP1fS8w51",
        "outputId": "77be82a1-eec2-4318-8c54-77b599c3f448"
      },
      "source": [
        "for i in user_list:\n",
        "  print(i.name,i.isprime)"
      ],
      "execution_count": null,
      "outputs": [
        {
          "output_type": "stream",
          "text": [
            "adi 0\n",
            "sita 0\n",
            "adi 0\n",
            "rahul 1\n",
            "latha 1\n"
          ],
          "name": "stdout"
        }
      ]
    },
    {
      "cell_type": "code",
      "metadata": {
        "colab": {
          "base_uri": "https://localhost:8080/"
        },
        "id": "vsDsQPEr9A3L",
        "outputId": "b6937128-7bc7-4325-84b2-b25844b8d907"
      },
      "source": [
        "#def fun(x):\n",
        " # return x*2\n",
        "f = lambda x:x*2 \n",
        "res = fun(10)\n",
        "print(res)"
      ],
      "execution_count": null,
      "outputs": [
        {
          "output_type": "stream",
          "text": [
            "20\n"
          ],
          "name": "stdout"
        }
      ]
    },
    {
      "cell_type": "code",
      "metadata": {
        "colab": {
          "base_uri": "https://localhost:8080/"
        },
        "id": "R1PMbcim9vBf",
        "outputId": "89d6e7a5-551d-4660-e813-9e748381727e"
      },
      "source": [
        "for i in user_list:\n",
        "  if i.isprime == 0:\n",
        "    print(f'Hi{i.name},your order has been shipped under prime delivery')\n",
        "  else:\n",
        "    print(f'Hi {i.name} ,  your order has been shipped')\n",
        "  #i.order_cart.clear()"
      ],
      "execution_count": null,
      "outputs": [
        {
          "output_type": "stream",
          "text": [
            "Hiadi,your order has been shipped under prime delivery\n",
            "Hisita,your order has been shipped under prime delivery\n",
            "Hiadi,your order has been shipped under prime delivery\n",
            "Hi rahul ,  your order has been shipped\n",
            "Hi latha ,  your order has been shipped\n"
          ],
          "name": "stdout"
        }
      ]
    }
  ]
}